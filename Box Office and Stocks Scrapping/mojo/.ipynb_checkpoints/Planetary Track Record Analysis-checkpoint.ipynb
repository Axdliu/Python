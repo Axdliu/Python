{
 "cells": [
  {
   "cell_type": "markdown",
   "metadata": {},
   "source": [
    "# Planetary Track Record: Fama-French Model Analysis"
   ]
  },
  {
   "cell_type": "code",
   "execution_count": 74,
   "metadata": {
    "collapsed": false
   },
   "outputs": [
    {
     "data": {
      "text/html": [
       "<script> code_show=true; \n",
       "function code_toggle() {\n",
       " if (code_show){\n",
       " $('div.input').hide();\n",
       " } else {\n",
       " $('div.input').show();\n",
       " }\n",
       " code_show = !code_show\n",
       "} \n",
       "$( document ).ready(code_toggle);\n",
       "</script>\n",
       "\n",
       "<a href=\"javascript:code_toggle()\">see notebook code clicking here</a>."
      ],
      "text/plain": [
       "<IPython.core.display.HTML object>"
      ]
     },
     "metadata": {},
     "output_type": "display_data"
    }
   ],
   "source": [
    "from IPython.core.display import display, HTML\n",
    "\n",
    "display(HTML('''<script> code_show=true; \n",
    "function code_toggle() {\n",
    " if (code_show){\n",
    " $('div.input').hide();\n",
    " } else {\n",
    " $('div.input').show();\n",
    " }\n",
    " code_show = !code_show\n",
    "} \n",
    "$( document ).ready(code_toggle);\n",
    "</script>\n",
    "\n",
    "<a href=\"javascript:code_toggle()\">see notebook code clicking here</a>.'''))"
   ]
  },
  {
   "cell_type": "code",
   "execution_count": 28,
   "metadata": {
    "collapsed": false
   },
   "outputs": [
    {
     "data": {
      "text/html": [
       "<div>\n",
       "<table border=\"1\" class=\"dataframe\">\n",
       "  <thead>\n",
       "    <tr style=\"text-align: right;\">\n",
       "      <th></th>\n",
       "      <th>Mkt-RF</th>\n",
       "      <th>SMB</th>\n",
       "      <th>HML</th>\n",
       "      <th>RF</th>\n",
       "    </tr>\n",
       "  </thead>\n",
       "  <tbody>\n",
       "    <tr>\n",
       "      <th>2011-08</th>\n",
       "      <td>-5.99</td>\n",
       "      <td>-3.03</td>\n",
       "      <td>-2.40</td>\n",
       "      <td>0.01</td>\n",
       "    </tr>\n",
       "    <tr>\n",
       "      <th>2011-09</th>\n",
       "      <td>-7.59</td>\n",
       "      <td>-3.54</td>\n",
       "      <td>-1.37</td>\n",
       "      <td>0.00</td>\n",
       "    </tr>\n",
       "    <tr>\n",
       "      <th>2011-10</th>\n",
       "      <td>11.35</td>\n",
       "      <td>3.44</td>\n",
       "      <td>-0.22</td>\n",
       "      <td>0.00</td>\n",
       "    </tr>\n",
       "    <tr>\n",
       "      <th>2011-11</th>\n",
       "      <td>-0.28</td>\n",
       "      <td>-0.18</td>\n",
       "      <td>-0.42</td>\n",
       "      <td>0.00</td>\n",
       "    </tr>\n",
       "    <tr>\n",
       "      <th>2011-12</th>\n",
       "      <td>0.74</td>\n",
       "      <td>-0.67</td>\n",
       "      <td>1.71</td>\n",
       "      <td>0.00</td>\n",
       "    </tr>\n",
       "  </tbody>\n",
       "</table>\n",
       "</div>"
      ],
      "text/plain": [
       "         Mkt-RF   SMB   HML    RF\n",
       "2011-08   -5.99 -3.03 -2.40  0.01\n",
       "2011-09   -7.59 -3.54 -1.37  0.00\n",
       "2011-10   11.35  3.44 -0.22  0.00\n",
       "2011-11   -0.28 -0.18 -0.42  0.00\n",
       "2011-12    0.74 -0.67  1.71  0.00"
      ]
     },
     "execution_count": 28,
     "metadata": {},
     "output_type": "execute_result"
    }
   ],
   "source": [
    "import pandas as pd\n",
    "from pandas_datareader import data as web\n",
    "from datetime import  datetime\n",
    "# 1) import FF info:\n",
    "ff_monthly = web.DataReader(\"F-F_Research_Data_Factors\", \"famafrench\",start = datetime(2011, 8, 31), end = datetime(2016, 3, 31))\n",
    "ff_df = ff_monthly.values()[0]\n",
    "ff_df.index.rename(None,inplace=True)\n",
    "ff_df.head()"
   ]
  },
  {
   "cell_type": "code",
   "execution_count": 84,
   "metadata": {
    "collapsed": false
   },
   "outputs": [],
   "source": [
    "# 2) second, import Planetary Track Record CSV\n",
    "ff_df.to_csv('ff.csv')"
   ]
  },
  {
   "cell_type": "code",
   "execution_count": 60,
   "metadata": {
    "collapsed": false
   },
   "outputs": [
    {
     "data": {
      "text/html": [
       "<div>\n",
       "<table border=\"1\" class=\"dataframe\">\n",
       "  <thead>\n",
       "    <tr style=\"text-align: right;\">\n",
       "      <th></th>\n",
       "      <th>Mkt-RF</th>\n",
       "      <th>SMB</th>\n",
       "      <th>HML</th>\n",
       "      <th>RF</th>\n",
       "      <th>TR</th>\n",
       "    </tr>\n",
       "  </thead>\n",
       "  <tbody>\n",
       "    <tr>\n",
       "      <th>01/08/2011</th>\n",
       "      <td>-5.99</td>\n",
       "      <td>-3.03</td>\n",
       "      <td>-2.40</td>\n",
       "      <td>0.01</td>\n",
       "      <td>-2.3</td>\n",
       "    </tr>\n",
       "    <tr>\n",
       "      <th>01/09/2011</th>\n",
       "      <td>-7.59</td>\n",
       "      <td>-3.54</td>\n",
       "      <td>-1.37</td>\n",
       "      <td>0.00</td>\n",
       "      <td>-2.2</td>\n",
       "    </tr>\n",
       "    <tr>\n",
       "      <th>01/10/2011</th>\n",
       "      <td>11.35</td>\n",
       "      <td>3.44</td>\n",
       "      <td>-0.22</td>\n",
       "      <td>0.00</td>\n",
       "      <td>6.7</td>\n",
       "    </tr>\n",
       "    <tr>\n",
       "      <th>01/11/2011</th>\n",
       "      <td>-0.28</td>\n",
       "      <td>-0.18</td>\n",
       "      <td>-0.42</td>\n",
       "      <td>0.00</td>\n",
       "      <td>1.7</td>\n",
       "    </tr>\n",
       "    <tr>\n",
       "      <th>01/12/2011</th>\n",
       "      <td>0.74</td>\n",
       "      <td>-0.67</td>\n",
       "      <td>1.71</td>\n",
       "      <td>0.00</td>\n",
       "      <td>2.2</td>\n",
       "    </tr>\n",
       "  </tbody>\n",
       "</table>\n",
       "</div>"
      ],
      "text/plain": [
       "            Mkt-RF   SMB   HML    RF   TR\n",
       "01/08/2011   -5.99 -3.03 -2.40  0.01 -2.3\n",
       "01/09/2011   -7.59 -3.54 -1.37  0.00 -2.2\n",
       "01/10/2011   11.35  3.44 -0.22  0.00  6.7\n",
       "01/11/2011   -0.28 -0.18 -0.42  0.00  1.7\n",
       "01/12/2011    0.74 -0.67  1.71  0.00  2.2"
      ]
     },
     "execution_count": 60,
     "metadata": {},
     "output_type": "execute_result"
    }
   ],
   "source": [
    "# 3) paste ff_df and Planetary TR info into into track_record.csv and import back:\n",
    "tr_df = pd.read_csv('track_record.csv')\n",
    "tr_df.set_index('Unnamed: 0', inplace=True)\n",
    "tr_df.index.rename(None,'ignore')\n",
    "tr_df.head()"
   ]
  },
  {
   "cell_type": "markdown",
   "metadata": {},
   "source": [
    "### Multivariate Regression Analysis"
   ]
  },
  {
   "cell_type": "markdown",
   "metadata": {},
   "source": [
    "Firstly, we conducted an in-depth analysis using Fama-French monthly total return breakdown analysis: RF (Risk-Free rate), MRP (Market-Risk Premium), SMB(Size Premium) and HML (Value Premium) during the period August 2011 - March 2016. \n",
    "\n",
    "The results are impressive with the portfolio generating an average statistically significant 0.86% alpha per month. RF coefficient output is distorted due to the regime of negative interest rates; for which reason, a second model is built below to leave out risk-free rate and included only the total overall market return. "
   ]
  },
  {
   "cell_type": "code",
   "execution_count": 61,
   "metadata": {
    "collapsed": false,
    "scrolled": false
   },
   "outputs": [
    {
     "name": "stdout",
     "output_type": "stream",
     "text": [
      "                            OLS Regression Results                            \n",
      "==============================================================================\n",
      "Dep. Variable:                     TR   R-squared:                       0.741\n",
      "Model:                            OLS   Adj. R-squared:                  0.721\n",
      "Method:                 Least Squares   F-statistic:                     36.56\n",
      "Date:                Thu, 16 Feb 2017   Prob (F-statistic):           2.09e-14\n",
      "Time:                        22:33:16   Log-Likelihood:                -91.570\n",
      "No. Observations:                  56   AIC:                             193.1\n",
      "Df Residuals:                      51   BIC:                             203.3\n",
      "Df Model:                           4                                         \n",
      "Covariance Type:            nonrobust                                         \n",
      "==============================================================================\n",
      "                 coef    std err          t      P>|t|      [95.0% Conf. Int.]\n",
      "------------------------------------------------------------------------------\n",
      "Intercept      0.8680      0.206      4.218      0.000         0.455     1.281\n",
      "RF           -59.7218     35.665     -1.674      0.100      -131.323    11.880\n",
      "MRP            0.5868      0.051     11.497      0.000         0.484     0.689\n",
      "SMB           -0.2550      0.086     -2.964      0.005        -0.428    -0.082\n",
      "HML           -0.0742      0.101     -0.734      0.466        -0.277     0.129\n",
      "==============================================================================\n",
      "Omnibus:                        1.726   Durbin-Watson:                   1.714\n",
      "Prob(Omnibus):                  0.422   Jarque-Bera (JB):                1.570\n",
      "Skew:                           0.399   Prob(JB):                        0.456\n",
      "Kurtosis:                       2.812   Cond. No.                         811.\n",
      "==============================================================================\n",
      "\n",
      "Warnings:\n",
      "[1] Standard Errors assume that the covariance matrix of the errors is correctly specified.\n"
     ]
    }
   ],
   "source": [
    "# 3) Multivariate regression: \n",
    "import pandas as pd\n",
    "import statsmodels.formula.api as sm\n",
    "RF = list(tr_df.loc[:,'RF'])\n",
    "MRP = list(tr_df.loc[:,'Mkt-RF'])\n",
    "SMB = list(tr_df.loc[:,'SMB'])\n",
    "HML = list(tr_df.loc[:,'HML'])\n",
    "TR = list(tr_df.loc[:,'TR'])\n",
    "\n",
    "dfr = pd.DataFrame({'RF':RF,'MRP':MRP,'SMB':SMB,'HML':HML,'TR':TR})\n",
    "\n",
    "result = sm.ols(formula=\"TR ~ RF + MRP + SMB + HML\", data=dfr).fit()\n",
    "print(result.summary())"
   ]
  },
  {
   "cell_type": "markdown",
   "metadata": {},
   "source": [
    "As shown below, the new regression coefficient of determination is similar to our first model. Although AIC (Akaike Information Criterion) and BIC (Bayesian Information Criterion) are slightly higher, their magnitude don't seem to pose an issue. Once again, the portfolio demonstrates is able to generate a 0.71% alpha per calendar month with an extremely low p-value showcasing this is a statistically significant result."
   ]
  },
  {
   "cell_type": "code",
   "execution_count": 62,
   "metadata": {
    "collapsed": false
   },
   "outputs": [
    {
     "name": "stdout",
     "output_type": "stream",
     "text": [
      "                            OLS Regression Results                            \n",
      "==============================================================================\n",
      "Dep. Variable:                     TR   R-squared:                       0.727\n",
      "Model:                            OLS   Adj. R-squared:                  0.711\n",
      "Method:                 Least Squares   F-statistic:                     46.14\n",
      "Date:                Thu, 16 Feb 2017   Prob (F-statistic):           1.10e-14\n",
      "Time:                        22:33:23   Log-Likelihood:                -93.098\n",
      "No. Observations:                  56   AIC:                             194.2\n",
      "Df Residuals:                      52   BIC:                             202.3\n",
      "Df Model:                           3                                         \n",
      "Covariance Type:            nonrobust                                         \n",
      "==============================================================================\n",
      "                 coef    std err          t      P>|t|      [95.0% Conf. Int.]\n",
      "------------------------------------------------------------------------------\n",
      "Intercept      0.7128      0.187      3.803      0.000         0.337     1.089\n",
      "MKT            0.5997      0.051     11.678      0.000         0.497     0.703\n",
      "SMB           -0.2590      0.088     -2.959      0.005        -0.435    -0.083\n",
      "HML           -0.1034      0.101     -1.020      0.312        -0.307     0.100\n",
      "==============================================================================\n",
      "Omnibus:                        1.232   Durbin-Watson:                   1.781\n",
      "Prob(Omnibus):                  0.540   Jarque-Bera (JB):                0.925\n",
      "Skew:                           0.315   Prob(JB):                        0.630\n",
      "Kurtosis:                       2.984   Cond. No.                         4.23\n",
      "==============================================================================\n",
      "\n",
      "Warnings:\n",
      "[1] Standard Errors assume that the covariance matrix of the errors is correctly specified.\n"
     ]
    }
   ],
   "source": [
    "import pandas as pd\n",
    "import statsmodels.formula.api as sm\n",
    "MKT = list(tr_df.loc[:,'Mkt-RF']+tr_df.loc[:,'RF'])\n",
    "SMB = list(tr_df.loc[:,'SMB'])\n",
    "HML = list(tr_df.loc[:,'HML'])\n",
    "TR = list(tr_df.loc[:,'TR'])\n",
    "\n",
    "dfr = pd.DataFrame({'RF':RF,'MKT':MKT,'SMB':SMB,'HML':HML,'TR':TR})\n",
    "\n",
    "result = sm.ols(formula=\"TR ~ MKT + SMB + HML\", data=dfr).fit()\n",
    "print(result.summary())\n"
   ]
  },
  {
   "cell_type": "code",
   "execution_count": 64,
   "metadata": {
    "collapsed": false
   },
   "outputs": [
    {
     "data": {
      "text/html": [
       "<table class=\"simpletable\">\n",
       "<tr>\n",
       "        <td>Model:</td>               <td>OLS</td>         <td>Adj. R-squared:</td>     <td>0.711</td> \n",
       "</tr>\n",
       "<tr>\n",
       "  <td>Dependent Variable:</td>        <td>TR</td>               <td>AIC:</td>         <td>194.1969</td>\n",
       "</tr>\n",
       "<tr>\n",
       "         <td>Date:</td>        <td>2017-02-16 22:58</td>        <td>BIC:</td>         <td>202.2983</td>\n",
       "</tr>\n",
       "<tr>\n",
       "   <td>No. Observations:</td>         <td>56</td>          <td>Log-Likelihood:</td>    <td>-93.098</td>\n",
       "</tr>\n",
       "<tr>\n",
       "       <td>Df Model:</td>              <td>3</td>           <td>F-statistic:</td>       <td>46.14</td> \n",
       "</tr>\n",
       "<tr>\n",
       "     <td>Df Residuals:</td>           <td>52</td>        <td>Prob (F-statistic):</td> <td>1.10e-14</td>\n",
       "</tr>\n",
       "<tr>\n",
       "      <td>R-squared:</td>            <td>0.727</td>            <td>Scale:</td>         <td>1.7527</td> \n",
       "</tr>\n",
       "</table>\n",
       "<table class=\"simpletable\">\n",
       "<tr>\n",
       "      <td></td>       <th>Coef.</th>  <th>Std.Err.</th>    <th>t</th>     <th>P>|t|</th> <th>[0.025</th>  <th>0.975]</th> \n",
       "</tr>\n",
       "<tr>\n",
       "  <th>Intercept</th> <td>0.7128</td>   <td>0.1874</td>  <td>3.8029</td>  <td>0.0004</td> <td>0.3367</td>  <td>1.0890</td> \n",
       "</tr>\n",
       "<tr>\n",
       "  <th>MKT</th>       <td>0.5997</td>   <td>0.0514</td>  <td>11.6781</td> <td>0.0000</td> <td>0.4967</td>  <td>0.7028</td> \n",
       "</tr>\n",
       "<tr>\n",
       "  <th>SMB</th>       <td>-0.2590</td>  <td>0.0875</td>  <td>-2.9588</td> <td>0.0046</td> <td>-0.4346</td> <td>-0.0833</td>\n",
       "</tr>\n",
       "<tr>\n",
       "  <th>HML</th>       <td>-0.1034</td>  <td>0.1013</td>  <td>-1.0203</td> <td>0.3123</td> <td>-0.3068</td> <td>0.1000</td> \n",
       "</tr>\n",
       "</table>\n",
       "<table class=\"simpletable\">\n",
       "<tr>\n",
       "     <td>Omnibus:</td>    <td>1.232</td>  <td>Durbin-Watson:</td>   <td>1.781</td>\n",
       "</tr>\n",
       "<tr>\n",
       "  <td>Prob(Omnibus):</td> <td>0.540</td> <td>Jarque-Bera (JB):</td> <td>0.925</td>\n",
       "</tr>\n",
       "<tr>\n",
       "       <td>Skew:</td>     <td>0.315</td>     <td>Prob(JB):</td>     <td>0.630</td>\n",
       "</tr>\n",
       "<tr>\n",
       "     <td>Kurtosis:</td>   <td>2.984</td>  <td>Condition No.:</td>     <td>4</td>  \n",
       "</tr>\n",
       "</table>"
      ],
      "text/plain": [
       "<class 'statsmodels.iolib.summary2.Summary'>\n",
       "\"\"\"\n",
       "                 Results: Ordinary least squares\n",
       "=================================================================\n",
       "Model:              OLS              Adj. R-squared:     0.711   \n",
       "Dependent Variable: TR               AIC:                194.1969\n",
       "Date:               2017-02-16 22:58 BIC:                202.2983\n",
       "No. Observations:   56               Log-Likelihood:     -93.098 \n",
       "Df Model:           3                F-statistic:        46.14   \n",
       "Df Residuals:       52               Prob (F-statistic): 1.10e-14\n",
       "R-squared:          0.727            Scale:              1.7527  \n",
       "------------------------------------------------------------------\n",
       "               Coef.   Std.Err.     t     P>|t|    [0.025   0.975]\n",
       "------------------------------------------------------------------\n",
       "Intercept      0.7128    0.1874   3.8029  0.0004   0.3367   1.0890\n",
       "MKT            0.5997    0.0514  11.6781  0.0000   0.4967   0.7028\n",
       "SMB           -0.2590    0.0875  -2.9588  0.0046  -0.4346  -0.0833\n",
       "HML           -0.1034    0.1013  -1.0203  0.3123  -0.3068   0.1000\n",
       "-----------------------------------------------------------------\n",
       "Omnibus:              1.232        Durbin-Watson:           1.781\n",
       "Prob(Omnibus):        0.540        Jarque-Bera (JB):        0.925\n",
       "Skew:                 0.315        Prob(JB):                0.630\n",
       "Kurtosis:             2.984        Condition No.:           4    \n",
       "=================================================================\n",
       "\n",
       "\"\"\""
      ]
     },
     "execution_count": 64,
     "metadata": {},
     "output_type": "execute_result"
    }
   ],
   "source": [
    "result.summary2() # another format"
   ]
  }
 ],
 "metadata": {
  "anaconda-cloud": {},
  "kernelspec": {
   "display_name": "Python [default]",
   "language": "python",
   "name": "python2"
  },
  "language_info": {
   "codemirror_mode": {
    "name": "ipython",
    "version": 2
   },
   "file_extension": ".py",
   "mimetype": "text/x-python",
   "name": "python",
   "nbconvert_exporter": "python",
   "pygments_lexer": "ipython2",
   "version": "2.7.12"
  }
 },
 "nbformat": 4,
 "nbformat_minor": 1
}
